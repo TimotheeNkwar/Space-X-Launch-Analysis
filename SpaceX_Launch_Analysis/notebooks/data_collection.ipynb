{
 "cells": [
  {
   "cell_type": "code",
   "execution_count": null,
   "id": "f6ff6319",
   "metadata": {},
   "outputs": [
    {
     "name": "stdout",
     "output_type": "stream",
     "text": [
      "          name                  date_utc  success                    rocket  \\\n",
      "0    FalconSat  2006-03-24T22:30:00.000Z    False  5e9d0d95eda69955f709d1eb   \n",
      "1      DemoSat  2007-03-21T01:10:00.000Z    False  5e9d0d95eda69955f709d1eb   \n",
      "2  Trailblazer  2008-08-03T03:34:00.000Z    False  5e9d0d95eda69955f709d1eb   \n",
      "3       RatSat  2008-09-28T23:15:00.000Z     True  5e9d0d95eda69955f709d1eb   \n",
      "4     RazakSat  2009-07-13T03:35:00.000Z     True  5e9d0d95eda69955f709d1eb   \n",
      "\n",
      "                  launchpad rocket_name   launchpad_name  year  month  \n",
      "0  5e9e4502f5090995de566f86    Falcon 1  Kwajalein Atoll  2006      3  \n",
      "1  5e9e4502f5090995de566f86    Falcon 1  Kwajalein Atoll  2007      3  \n",
      "2  5e9e4502f5090995de566f86    Falcon 1  Kwajalein Atoll  2008      8  \n",
      "3  5e9e4502f5090995de566f86    Falcon 1  Kwajalein Atoll  2008      9  \n",
      "4  5e9e4502f5090995de566f86    Falcon 1  Kwajalein Atoll  2009      7  \n",
      "<class 'pandas.core.frame.DataFrame'>\n",
      "RangeIndex: 205 entries, 0 to 204\n",
      "Data columns (total 9 columns):\n",
      " #   Column          Non-Null Count  Dtype \n",
      "---  ------          --------------  ----- \n",
      " 0   name            205 non-null    object\n",
      " 1   date_utc        205 non-null    object\n",
      " 2   success         205 non-null    bool  \n",
      " 3   rocket          205 non-null    object\n",
      " 4   launchpad       205 non-null    object\n",
      " 5   rocket_name     205 non-null    object\n",
      " 6   launchpad_name  205 non-null    object\n",
      " 7   year            205 non-null    int32 \n",
      " 8   month           205 non-null    int32 \n",
      "dtypes: bool(1), int32(2), object(6)\n",
      "memory usage: 11.5+ KB\n",
      "None\n"
     ]
    },
    {
     "name": "stderr",
     "output_type": "stream",
     "text": [
      "C:\\Users\\KOVVO\\AppData\\Local\\Temp\\ipykernel_3592\\1702166454.py:31: FutureWarning: Downcasting object dtype arrays on .fillna, .ffill, .bfill is deprecated and will change in a future version. Call result.infer_objects(copy=False) instead. To opt-in to the future behavior, set `pd.set_option('future.no_silent_downcasting', True)`\n",
      "  df[\"success\"] = df[\"success\"].fillna(False)\n"
     ]
    }
   ],
   "source": [
    "# important libraries\n",
    "import requests\n",
    "import pandas as pd\n",
    "import sqlite3\n",
    "import os\n",
    "# Fetch launches\n",
    "url = \"https://api.spacexdata.com/v4/launches\"\n",
    "response = requests.get(url)\n",
    "launches = response.json()\n",
    "df = pd.DataFrame(launches)\n",
    "\n",
    "# Clean column names\n",
    "df.columns = df.columns.str.strip()\n",
    "\n",
    "# Fetch rockets and launchpads for mapping\n",
    "rockets = pd.DataFrame(requests.get(\"https://api.spacexdata.com/v4/rockets\").json())\n",
    "launchpads = pd.DataFrame(requests.get(\"https://api.spacexdata.com/v4/launchpads\").json())\n",
    "rocket_map = dict(zip(rockets[\"id\"], rockets[\"name\"]))\n",
    "launchpad_map = dict(zip(launchpads[\"id\"], launchpads[\"name\"]))\n",
    "launchpad_loc = dict(zip(launchpads[\"id\"], launchpads[[\"latitude\", \"longitude\"]].values.tolist()))\n",
    "\n",
    "# Select and clean data\n",
    "df = df[[\"name\", \"date_utc\", \"success\", \"rocket\", \"launchpad\"]]\n",
    "df[\"rocket_name\"] = df[\"rocket\"].map(rocket_map)\n",
    "df[\"launchpad_name\"] = df[\"launchpad\"].map(launchpad_map)\n",
    "df[\"year\"] = pd.to_datetime(df[\"date_utc\"]).dt.year\n",
    "df[\"month\"] = pd.to_datetime(df[\"date_utc\"]).dt.month\n",
    "# Avoid future warning\n",
    "df[\"success\"] = df[\"success\"].fillna(False)\n",
    "df = df.infer_objects(copy=False)\n",
    "# Save to CSV and SQLite\n",
    "os.makedirs(\"data\", exist_ok=True)\n",
    "df.to_csv(\"data/spacex_cleaned.csv\", index=False)\n",
    "conn = sqlite3.connect(\"data/spacex.db\")\n",
    "df.to_sql(\"launches\", conn, if_exists=\"replace\", index=False)\n",
    "conn.close()"
   ]
  }
 ],
 "metadata": {
  "kernelspec": {
   "display_name": "Timo",
   "language": "python",
   "name": "python3"
  },
  "language_info": {
   "codemirror_mode": {
    "name": "ipython",
    "version": 3
   },
   "file_extension": ".py",
   "mimetype": "text/x-python",
   "name": "python",
   "nbconvert_exporter": "python",
   "pygments_lexer": "ipython3",
   "version": "3.13.2"
  }
 },
 "nbformat": 4,
 "nbformat_minor": 5
}
