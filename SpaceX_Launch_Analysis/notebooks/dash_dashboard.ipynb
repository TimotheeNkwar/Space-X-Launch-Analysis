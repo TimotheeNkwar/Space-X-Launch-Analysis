{
 "cells": [
  {
   "cell_type": "code",
   "execution_count": 2,
   "id": "8530e0f4",
   "metadata": {},
   "outputs": [
    {
     "data": {
      "text/html": [
       "\n",
       "        <iframe\n",
       "            width=\"100%\"\n",
       "            height=\"650\"\n",
       "            src=\"http://127.0.0.1:8050/\"\n",
       "            frameborder=\"0\"\n",
       "            allowfullscreen\n",
       "            \n",
       "        ></iframe>\n",
       "        "
      ],
      "text/plain": [
       "<IPython.lib.display.IFrame at 0x25d5a33fa10>"
      ]
     },
     "metadata": {},
     "output_type": "display_data"
    }
   ],
   "source": [
    "# dash_dashboard.ipynb\n",
    "import dash\n",
    "from dash import dcc, html\n",
    "from dash.dependencies import Input, Output\n",
    "import plotly.express as px\n",
    "import pandas as pd\n",
    "\n",
    "# Load data\n",
    "df = pd.read_csv(\"data/spacex_cleaned.csv\")\n",
    "\n",
    "# Initialize app\n",
    "app = dash.Dash(__name__)\n",
    "app.layout = html.Div([\n",
    "    html.H1(\"SpaceX Launch Dashboard\"),\n",
    "    dcc.Dropdown(\n",
    "        id=\"rocket-dropdown\",\n",
    "        options=[{\"label\": r, \"value\": r} for r in df[\"rocket_name\"].unique()],\n",
    "        value=df[\"rocket_name\"].iloc[0]\n",
    "    ),\n",
    "    dcc.Graph(id=\"launch-chart\"),\n",
    "    dcc.Graph(id=\"success-chart\")\n",
    "])\n",
    "\n",
    "# Callback for launch chart\n",
    "@app.callback(\n",
    "    Output(\"launch-chart\", \"figure\"),\n",
    "    Input(\"rocket-dropdown\", \"value\")\n",
    ")\n",
    "def update_launch_chart(rocket):\n",
    "    filtered_df = df[df[\"rocket_name\"] == rocket]\n",
    "    fig = px.histogram(filtered_df, x=\"year\", title=f\"Lancements pour {rocket}\")\n",
    "    return fig\n",
    "\n",
    "# Callback for success chart\n",
    "@app.callback(\n",
    "    Output(\"success-chart\", \"figure\"),\n",
    "    Input(\"rocket-dropdown\", \"value\")\n",
    ")\n",
    "def update_success_chart(rocket):\n",
    "    filtered_df = df[df[\"rocket_name\"] == rocket]\n",
    "    success_rate = filtered_df[\"success\"].mean() * 100\n",
    "    fig = px.pie(values=[success_rate, 100-success_rate], \n",
    "                 names=[\"Succès\", \"Échec\"], \n",
    "                 title=f\"Taux de réussite pour {rocket}\")\n",
    "    return fig\n",
    "\n",
    "# Run app\n",
    "app.run(debug=True)"
   ]
  },
  {
   "cell_type": "code",
   "execution_count": null,
   "id": "0d7d6fc7",
   "metadata": {},
   "outputs": [],
   "source": []
  }
 ],
 "metadata": {
  "kernelspec": {
   "display_name": "Timo",
   "language": "python",
   "name": "python3"
  },
  "language_info": {
   "codemirror_mode": {
    "name": "ipython",
    "version": 3
   },
   "file_extension": ".py",
   "mimetype": "text/x-python",
   "name": "python",
   "nbconvert_exporter": "python",
   "pygments_lexer": "ipython3",
   "version": "3.13.2"
  }
 },
 "nbformat": 4,
 "nbformat_minor": 5
}
