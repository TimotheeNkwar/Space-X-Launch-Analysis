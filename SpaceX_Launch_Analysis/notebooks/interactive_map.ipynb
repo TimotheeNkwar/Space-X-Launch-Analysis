{
 "cells": [
  {
   "cell_type": "code",
   "execution_count": 1,
   "id": "43f28829",
   "metadata": {},
   "outputs": [],
   "source": [
    "# interactive_map.ipynb\n",
    "import requests\n",
    "import pandas as pd\n",
    "import folium\n",
    "\n",
    "# Load data\n",
    "df = pd.read_csv(\"data/spacex_cleaned.csv\")\n",
    "\n",
    "# Fetch launchpads\n",
    "launchpads = pd.DataFrame(requests.get(\"https://api.spacexdata.com/v4/launchpads\").json())\n",
    "launch_counts = df[\"launchpad_name\"].value_counts().to_dict()\n",
    "\n",
    "# Create map\n",
    "m = folium.Map(location=[28.5, -80.5], zoom_start=5)\n",
    "for _, row in launchpads.iterrows():\n",
    "    count = launch_counts.get(row[\"name\"], 0)\n",
    "    folium.Marker(\n",
    "        location=[row[\"latitude\"], row[\"longitude\"]],\n",
    "        popup=f\"{row['name']}: {count} launches\",\n",
    "        icon=folium.Icon(color=\"blue\")\n",
    "    ).add_to(m)\n",
    "m.save(\"presentation/launch_map.html\")"
   ]
  }
 ],
 "metadata": {
  "kernelspec": {
   "display_name": "Timo",
   "language": "python",
   "name": "python3"
  },
  "language_info": {
   "codemirror_mode": {
    "name": "ipython",
    "version": 3
   },
   "file_extension": ".py",
   "mimetype": "text/x-python",
   "name": "python",
   "nbconvert_exporter": "python",
   "pygments_lexer": "ipython3",
   "version": "3.13.2"
  }
 },
 "nbformat": 4,
 "nbformat_minor": 5
}
