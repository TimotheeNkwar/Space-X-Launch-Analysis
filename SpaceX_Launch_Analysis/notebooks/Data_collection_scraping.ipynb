{
 "cells": [
  {
   "cell_type": "code",
   "execution_count": null,
   "id": "9c750157",
   "metadata": {},
   "outputs": [],
   "source": [
    "# Import libraries\n",
    "import requests\n",
    "import pandas as pd\n",
    "import sqlite3\n",
    "from datetime import datetime\n",
    "\n",
    "# Fetch launches\n",
    "print(\"Fetching launch data...\")\n",
    "url = \"https://api.spacexdata.com/v4/launches\"\n",
    "try:\n",
    "    response = requests.get(url)\n",
    "    response.raise_for_status()  # Check for HTTP errors\n",
    "    launches = response.json()\n",
    "    df = pd.DataFrame(launches)\n",
    "    print(f\"Retrieved {len(df)} launches\")\n",
    "except requests.RequestException as e:\n",
    "    print(f\"Error fetching launches: {e}\")\n",
    "    df = pd.DataFrame()\n",
    "\n",
    "# Fetch rockets\n",
    "print(\"Fetching rocket data...\")\n",
    "try:\n",
    "    rockets = pd.DataFrame(requests.get(\"https://api.spacexdata.com/v4/rockets\").json())\n",
    "    rocket_map = dict(zip(rockets[\"id\"], rockets[\"name\"]))\n",
    "except requests.RequestException as e:\n",
    "    print(f\"Error fetching rockets: {e}\")\n",
    "    rocket_map = {}\n",
    "\n",
    "# Fetch launchpads\n",
    "print(\"Fetching launchpad data...\")\n",
    "try:\n",
    "    launchpads = pd.DataFrame(requests.get(\"https://api.spacexdata.com/v4/launchpads\").json())\n",
    "    launchpad_map = dict(zip(launchpads[\"id\"], launchpads[\"name\"]))\n",
    "    launchpad_loc = dict(zip(launchpads[\"id\"], launchpads[[\"latitude\", \"longitude\"]].values.tolist()))\n",
    "except requests.RequestException as e:\n",
    "    print(f\"Error fetching launchpads: {e}\")\n",
    "    launchpad_map = {}\n",
    "    launchpad_loc = {}\n"
   ]
  }
 ],
 "metadata": {
  "kernelspec": {
   "display_name": "Timo",
   "language": "python",
   "name": "python3"
  },
  "language_info": {
   "codemirror_mode": {
    "name": "ipython",
    "version": 3
   },
   "file_extension": ".py",
   "mimetype": "text/x-python",
   "name": "python",
   "nbconvert_exporter": "python",
   "pygments_lexer": "ipython3",
   "version": "3.13.2"
  }
 },
 "nbformat": 4,
 "nbformat_minor": 5
}
